{
  "nbformat": 4,
  "nbformat_minor": 0,
  "metadata": {
    "colab": {
      "provenance": [],
      "include_colab_link": true
    },
    "kernelspec": {
      "name": "python3",
      "display_name": "Python 3"
    },
    "language_info": {
      "name": "python"
    }
  },
  "cells": [
    {
      "cell_type": "markdown",
      "metadata": {
        "id": "view-in-github",
        "colab_type": "text"
      },
      "source": [
        "<a href=\"https://colab.research.google.com/github/YasinnSoylu/Microsoft-Hisse-Senedi-Fiyat-Sim-lasyonu-ve-Risk-Analizi/blob/main/montecarlo_similasyon_getiri_olas%C4%B1l%C4%B1k.ipynb\" target=\"_parent\"><img src=\"https://colab.research.google.com/assets/colab-badge.svg\" alt=\"Open In Colab\"/></a>"
      ]
    },
    {
      "cell_type": "markdown",
      "source": [
        "# \"Microsoft Hisse Senedi Fiyat Simülasyonu ve Risk Analizi\""
      ],
      "metadata": {
        "id": "Klow5BJhorJL"
      }
    },
    {
      "cell_type": "code",
      "source": [
        "# Import the necessary libraries\n",
        "import yfinance as yf\n",
        "import numpy as np\n",
        "import pandas as pd\n",
        "from IPython.display import clear_output\n",
        "\n",
        "\n",
        "# Create a Ticker object for Microsoft (MSFT)\n",
        "msft = yf.Ticker(\"MSFT\")\n",
        "\n",
        "# Get the current price of MSFT\n",
        "current_price = msft.history(period='1d')['Close'][0]"
      ],
      "metadata": {
        "id": "tVuSlxkiCnPO"
      },
      "execution_count": 1,
      "outputs": []
    },
    {
      "cell_type": "code",
      "source": [
        "# Set the number of simulations and the number of days to simulate\n",
        "num_simulations = 1000\n",
        "num_days = 20"
      ],
      "metadata": {
        "id": "OfPgSFmZqOYb"
      },
      "execution_count": 2,
      "outputs": []
    },
    {
      "cell_type": "code",
      "source": [
        "# Calculate the daily returns based on the past 3 months of MSFT's historical prices\n",
        "daily_returns = np.log(1 + msft.history(period='3mo').Close.pct_change())\n",
        "\n",
        "# Calculate the mean and standard deviation of the daily returns\n",
        "mu = daily_returns.mean()\n",
        "sigma = daily_returns.std()"
      ],
      "metadata": {
        "id": "EqP81PRbqOap"
      },
      "execution_count": 3,
      "outputs": []
    },
    {
      "cell_type": "code",
      "source": [
        "# Simulate the price of MSFT for the next num_days days using a geometric Brownian motion model\n",
        "# Store the results in a DataFrame called simulated_price_series\n",
        "simulated_price_series = pd.DataFrame()\n",
        "for i in range(num_simulations):\n",
        "  simulated_price_series[i] = [current_price * np.exp(np.random.normal(mu, sigma)) for j in range(num_days)];\n",
        "clear_output()\n"
      ],
      "metadata": {
        "id": "us-kvYuAqOc4"
      },
      "execution_count": 4,
      "outputs": []
    },
    {
      "cell_type": "code",
      "source": [
        "# Calculate the minimum, maximum, and average simulated prices at the end of the simulation period\n",
        "minimum_price = simulated_price_series.min(axis=1)[num_days-1]\n",
        "maximum_price = simulated_price_series.max(axis=1)[num_days-1]\n",
        "average_price = simulated_price_series.mean(axis=1)[num_days-1]"
      ],
      "metadata": {
        "id": "N7K5Wx7FqOfA"
      },
      "execution_count": 5,
      "outputs": []
    },
    {
      "cell_type": "code",
      "source": [
        "# Calculate the returns of each simulation and the probability of a loss\n",
        "returns = (simulated_price_series - current_price) / current_price\n",
        "negative_returns = returns[returns < 0]\n",
        "probability_of_loss = len(negative_returns) / num_simulations"
      ],
      "metadata": {
        "id": "THBJLuhUqOhc"
      },
      "execution_count": 6,
      "outputs": []
    },
    {
      "cell_type": "code",
      "source": [
        "print(f\"Current price of company stock: {current_price:.2f} dollars\")\n",
        "print(f\"Forecast stock prices for the next 3 months:\")\n",
        "print(f\"Minimum estimate: {minimum_price:.2f} dollars\")\n",
        "print(f\"Average estimate: {average_price:.2f} dollars\")\n",
        "print(f\"Maximum estimate: {maximum_price:.2f} dollars\")"
      ],
      "metadata": {
        "colab": {
          "base_uri": "https://localhost:8080/"
        },
        "id": "utU6HvF_DVe8",
        "outputId": "5e789a0a-2eab-4766-e1f4-180c2748e0f6"
      },
      "execution_count": 7,
      "outputs": [
        {
          "output_type": "stream",
          "name": "stdout",
          "text": [
            "Current price of company stock: 337.22 dollars\n",
            "Forecast stock prices for the next 3 months:\n",
            "Minimum estimate: 322.39 dollars\n",
            "Average estimate: 338.21 dollars\n",
            "Maximum estimate: 356.70 dollars\n"
          ]
        }
      ]
    },
    {
      "cell_type": "code",
      "source": [
        "if probability_of_loss > 0.5:\n",
        "     print(\"High probability of loss in 3 months.\")\n",
        "else:\n",
        "     print(\"High probability of making a profit in 3 months.\")"
      ],
      "metadata": {
        "colab": {
          "base_uri": "https://localhost:8080/"
        },
        "id": "91iFMd8LCS1g",
        "outputId": "1eef77de-df22-44f7-bf48-ad2b5e92eb95"
      },
      "execution_count": 8,
      "outputs": [
        {
          "output_type": "stream",
          "name": "stdout",
          "text": [
            "High probability of making a profit in 3 months.\n"
          ]
        }
      ]
    },
    {
      "cell_type": "code",
      "source": [],
      "metadata": {
        "id": "44B_m2qbDSNG"
      },
      "execution_count": 8,
      "outputs": []
    },
    {
      "cell_type": "code",
      "source": [],
      "metadata": {
        "id": "z7S9VnUbD9GI"
      },
      "execution_count": 8,
      "outputs": []
    },
    {
      "cell_type": "markdown",
      "source": [
        "# portföy  Fiyat Simülasyonu ve Risk Analizi"
      ],
      "metadata": {
        "id": "EmUA96_yrzRR"
      }
    },
    {
      "cell_type": "code",
      "source": [
        "# Investment amount\n",
        "investment_amount = 10000\n",
        "\n",
        "# Ticker symbols for stocks in the portfolio\n",
        "tickers = [\"MSFT\", \"AAPL\",\"TSLA\",\"GS\"]\n",
        "\n",
        "close_prices = yf.download(tickers, start='2022-04-01', end='2023-04-01').fillna(method='ffill')['Adj Close']"
      ],
      "metadata": {
        "colab": {
          "base_uri": "https://localhost:8080/"
        },
        "id": "vkg8buvdD9KY",
        "outputId": "25822034-cc09-49aa-ce3f-63260ba79bee"
      },
      "execution_count": 9,
      "outputs": [
        {
          "output_type": "stream",
          "name": "stdout",
          "text": [
            "[*********************100%***********************]  4 of 4 completed\n"
          ]
        }
      ]
    },
    {
      "cell_type": "code",
      "source": [
        "# Define the weights of the portfolio\n",
        "weights = [0.25, 0.25,0.25,0.25]\n",
        "\n",
        "# Calculate the current value of the portfolio\n",
        "# We use a DataFrame containing the latest prices\n",
        "current_value = np.dot(close_prices.iloc[-1], weights)"
      ],
      "metadata": {
        "id": "L0NqKUi3D9NA"
      },
      "execution_count": 10,
      "outputs": []
    },
    {
      "cell_type": "code",
      "source": [
        "# Perform Monte Carlo simulation for the next 3 months\n",
        "num_simulations = 1000\n",
        "num_days = 90"
      ],
      "metadata": {
        "id": "GZrzXX3Sr5Fh"
      },
      "execution_count": 11,
      "outputs": []
    },
    {
      "cell_type": "code",
      "source": [
        "# Calculate daily returns\n",
        "daily_returns = np.log(1 + close_prices.pct_change())\n",
        "\n",
        "# Calculate mean and standard deviation of the daily returns\n",
        "mu = daily_returns.mean()\n",
        "sigma = daily_returns.std()"
      ],
      "metadata": {
        "id": "GQ5hae9nr5IA"
      },
      "execution_count": 12,
      "outputs": []
    },
    {
      "cell_type": "code",
      "source": [
        "# Create an empty DataFrame to store the simulated prices\n",
        "simulated_price_series = pd.DataFrame()\n",
        "\n",
        "# Loop over each simulation\n",
        "for i in range(num_simulations):\n",
        "    # Generate a random sample of daily returns\n",
        "    daily_returns_sample = np.random.normal(mu, sigma, size=(num_days, len(tickers)))\n",
        "\n",
        "    # Initialize the price matrix with the latest prices\n",
        "    price_matrix = np.zeros((num_days, len(tickers)))\n",
        "    price_matrix[0] = close_prices.iloc[-1]\n",
        "\n",
        "    # Simulate the price series for the next 3 months\n",
        "    for j in range(1, num_days):\n",
        "        price_matrix[j] = price_matrix[j-1] * np.exp(daily_returns_sample[j])\n",
        "\n",
        "    # Calculate the simulated price for each simulation\n",
        "    simulated_price_series[i] = np.dot(price_matrix, weights)\n",
        "    clear_output()"
      ],
      "metadata": {
        "id": "Jfq9pDHXr5Ky"
      },
      "execution_count": 13,
      "outputs": []
    },
    {
      "cell_type": "code",
      "source": [
        "# Calculate the estimated portfolio price for the next 3 months\n",
        "minimum_price = simulated_price_series.min()[num_days-1]\n",
        "maximum_price = simulated_price_series.max()[num_days-1]\n",
        "average_price = simulated_price_series.mean()[num_days-1]"
      ],
      "metadata": {
        "id": "YHCjVizsr5NA"
      },
      "execution_count": 14,
      "outputs": []
    },
    {
      "cell_type": "code",
      "source": [
        "# Let's print current and estimated prices\n",
        "print(f\"Current value of portfolio: {current_value:.2f} dollars\")\n",
        "print(f\"Estimated portfolio values for the next 3 months:\")\n",
        "print(f\"Minimum estimate: {minimum_price:.2f} dollars\")\n",
        "print(f\"Average estimate: {average_price:.2f} dollars\")\n",
        "print(f\"Max estimate: {minimum_price:.2f} dollars\")"
      ],
      "metadata": {
        "colab": {
          "base_uri": "https://localhost:8080/"
        },
        "id": "tqdm4oYRD9P8",
        "outputId": "da1e6922-4ed0-465c-f6cd-81f5c0b2dd81"
      },
      "execution_count": 15,
      "outputs": [
        {
          "output_type": "stream",
          "name": "stdout",
          "text": [
            "Current value of portfolio: 246.11 dollars\n",
            "Estimated portfolio values for the next 3 months:\n",
            "Minimum estimate: 199.35 dollars\n",
            "Average estimate: 223.98 dollars\n",
            "Max estimate: 199.35 dollars\n"
          ]
        }
      ]
    },
    {
      "cell_type": "code",
      "source": [
        "# Calculate the returns, lower and upper quantiles, and the risk of loss of a portfolio\n",
        "# by simulating its prices using Monte Carlo simulations\n",
        "\n",
        "returns = (simulated_price_series - current_value) / current_value\n",
        "lower_quantile = returns.quantile(0.05)\n",
        "upper_quantile = returns.quantile(0.95)\n",
        "risk_of_loss = (returns < 0).mean()\n"
      ],
      "metadata": {
        "id": "q78_vyiPD9SO"
      },
      "execution_count": 16,
      "outputs": []
    },
    {
      "cell_type": "code",
      "source": [
        "print(f\"\\nThe current value of the portfolio: {current_value:.2f} dollars\")\n",
        "print(f\"Profit/loss for the next 3 months:\")\n",
        "print(f\"Maximum loss with 5% probability: {lower_quantile.iloc[0]:.2%}\")\n",
        "print(f\"Maximum gain with 5% probability: {upper_quantile.iloc[0]:.2%}\")\n",
        "print(f\"Probability of damage: {risk_of_loss.iloc[0]:.2%}\")\n",
        "print(f\"Probability of damage: {1-risk_of_loss.iloc[0]:.2%}\")\n"
      ],
      "metadata": {
        "colab": {
          "base_uri": "https://localhost:8080/"
        },
        "id": "S_10UJWSD9Vt",
        "outputId": "70a17a60-480b-456a-f9a6-4d41ef00a5a4"
      },
      "execution_count": 17,
      "outputs": [
        {
          "output_type": "stream",
          "name": "stdout",
          "text": [
            "\n",
            "The current value of the portfolio: 246.11 dollars\n",
            "Profit/loss for the next 3 months:\n",
            "Maximum loss with 5% probability: -19.48%\n",
            "Maximum gain with 5% probability: -5.06%\n",
            "Probability of damage: 98.89%\n",
            "Probability of damage: 1.11%\n"
          ]
        }
      ]
    },
    {
      "cell_type": "code",
      "source": [
        "returns = (simulated_price_series - current_value) / current_value\n",
        "lower_quantile = returns.quantile(0.10)\n",
        "upper_quantile = returns.quantile(0.90)\n",
        "risk_of_loss = (returns < 0).mean()"
      ],
      "metadata": {
        "id": "2qd9saneJI4T"
      },
      "execution_count": 18,
      "outputs": []
    },
    {
      "cell_type": "code",
      "source": [
        "print(f\"\\nThe current value of the portfolio: {current_value:.2f} dollars\")\n",
        "print(f\"Profit/loss for the next 3 months:\")\n",
        "print(f\"Maximum loss with 10% probability: {lower_quantile.iloc[0]:.2%}\")\n",
        "print(f\"Maximum gain with 10% probability: {upper_quantile.iloc[0]:.2%}\")\n",
        "print(f\"Probability of damage: {risk_of_loss.iloc[0]:.2%}\")\n",
        "print(f\"Probability of damage: {1-risk_of_loss.iloc[0]:.2%}\")\n"
      ],
      "metadata": {
        "colab": {
          "base_uri": "https://localhost:8080/"
        },
        "id": "9lZqSDe_LDly",
        "outputId": "e4a6c6a5-5092-42a8-c1cf-8d71e8c23c5e"
      },
      "execution_count": 19,
      "outputs": [
        {
          "output_type": "stream",
          "name": "stdout",
          "text": [
            "\n",
            "The current value of the portfolio: 246.11 dollars\n",
            "Profit/loss for the next 3 months:\n",
            "Maximum loss with 10% probability: -18.40%\n",
            "Maximum gain with 10% probability: -7.60%\n",
            "Probability of damage: 98.89%\n",
            "Probability of damage: 1.11%\n"
          ]
        }
      ]
    },
    {
      "cell_type": "code",
      "source": [
        "returns = (simulated_price_series - current_value) / current_value\n",
        "lower_quantile = returns.quantile(0.15)\n",
        "upper_quantile = returns.quantile(0.85)\n",
        "risk_of_loss = (returns < 0).mean()"
      ],
      "metadata": {
        "id": "4YWJtQ20LLep"
      },
      "execution_count": 20,
      "outputs": []
    },
    {
      "cell_type": "code",
      "source": [
        "print(f\"\\nThe current value of the portfolio: {current_value:.2f} dollars\")\n",
        "print(f\"Profit/loss for the next 3 months:\")\n",
        "print(f\"Maximum loss with 15% probability: {lower_quantile.iloc[0]:.2%}\")\n",
        "print(f\"Maximum gain with 15% probability: {upper_quantile.iloc[0]:.2%}\")\n",
        "print(f\"Probability of damage: {risk_of_loss.iloc[0]:.2%}\")\n",
        "print(f\"Probability of damage: {1-risk_of_loss.iloc[0]:.2%}\")"
      ],
      "metadata": {
        "colab": {
          "base_uri": "https://localhost:8080/"
        },
        "id": "E0Sh8WhaOzVO",
        "outputId": "04c8f5ab-d7fd-438a-8718-a400df9e747e"
      },
      "execution_count": 21,
      "outputs": [
        {
          "output_type": "stream",
          "name": "stdout",
          "text": [
            "\n",
            "The current value of the portfolio: 246.11 dollars\n",
            "Profit/loss for the next 3 months:\n",
            "Maximum loss with 15% probability: -17.38%\n",
            "Maximum gain with 15% probability: -8.43%\n",
            "Probability of damage: 98.89%\n",
            "Probability of damage: 1.11%\n"
          ]
        }
      ]
    }
  ]
}